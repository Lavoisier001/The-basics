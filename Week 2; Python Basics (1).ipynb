{
 "cells": [
  {
   "cell_type": "markdown",
   "id": "132d8988-b1ec-4a10-9c66-b670c69c3eb1",
   "metadata": {},
   "source": [
    "WEEK 2; python Basics"
   ]
  },
  {
   "cell_type": "markdown",
   "id": "98d985a9-33bf-46d3-820e-50196db449c6",
   "metadata": {},
   "source": [
    "1"
   ]
  },
  {
   "cell_type": "code",
   "execution_count": 1,
   "id": "486d28ca-6242-42e1-b7fb-a638bc8b980f",
   "metadata": {},
   "outputs": [
    {
     "name": "stdin",
     "output_type": "stream",
     "text": [
      "what's your first name:  Waliyullah\n",
      "what's your last name:  Ibraheem\n"
     ]
    },
    {
     "name": "stdout",
     "output_type": "stream",
     "text": [
      "Hello, Waliyullah Ibraheem\n",
      "Hello, Ibraheem Waliyullah\n"
     ]
    }
   ],
   "source": [
    "first_name = input(\"what's your first name: \")\n",
    "last_name = input(\"what's your last name: \")\n",
    "\n",
    "print(\"Hello, {} {}\".format(first_name, last_name))\n",
    "print(\"Hello, {} {}\".format(last_name, first_name))"
   ]
  },
  {
   "cell_type": "markdown",
   "id": "474b0931-34e0-4904-b429-2b0809aa6bda",
   "metadata": {},
   "source": [
    "2"
   ]
  },
  {
   "cell_type": "code",
   "execution_count": 8,
   "id": "cb35b09b-d823-4337-a2b6-424b488e64d3",
   "metadata": {},
   "outputs": [
    {
     "name": "stdin",
     "output_type": "stream",
     "text": [
      "Do you want to convert from Celsius to Fahrenheit (C) or Fahrenheit to Celsius (F) ?  f\n",
      "temperature in Fahrenheit:  211.998\n"
     ]
    },
    {
     "name": "stdout",
     "output_type": "stream",
     "text": [
      "temperature in Celsius:  100.0\n"
     ]
    }
   ],
   "source": [
    "choice = input(\"Do you want to convert from Celsius to Fahrenheit (C) or Fahrenheit to Celsius (F) ? \")\n",
    "if choice.upper() == \"C\" :\n",
    "    Celsius =float(input(\"temperature in Celsius: \"))\n",
    "    Fahrenheit = (Celsius * 9/5) + 32\n",
    "    print(\"temperature in Fahrenheit: \", round(Fahrenheit,1))\n",
    "elif choice.upper() == \"F\" :\n",
    "    Fahrenheit = float(input(\"temperature in Fahrenheit: \"))\n",
    "    Celsius = (Fahrenheit - 32) *  5/9\n",
    "    print(\"temperature in Celsius: \", round(Celsius,1))\n"
   ]
  },
  {
   "cell_type": "markdown",
   "id": "92a59b96-9c35-4b52-aa2f-f06d539aea69",
   "metadata": {},
   "source": [
    "3"
   ]
  },
  {
   "cell_type": "code",
   "execution_count": 12,
   "id": "345941da-92e9-4599-b084-c6d717f801da",
   "metadata": {},
   "outputs": [
    {
     "name": "stdin",
     "output_type": "stream",
     "text": [
      "length:  100\n",
      "width:  50\n"
     ]
    },
    {
     "name": "stdout",
     "output_type": "stream",
     "text": [
      "area: 5000.0\n",
      "perimeter: 300.0\n",
      "The shape is a rectangle\n"
     ]
    }
   ],
   "source": [
    "length = float(input(\"length: \"))\n",
    "width = float(input(\"width: \"))\n",
    "\n",
    "if length >= 0 and width >= 0 :\n",
    "    area = length * width\n",
    "    perimeter = 2 * (length + width)\n",
    "if length == width :\n",
    "    print(f\"area: {area}\")\n",
    "    print(f\"perimeter: {perimeter}\")\n",
    "    print(\"The shape is a square\")\n",
    "else :\n",
    "    print(f\"area: {area}\")\n",
    "    print(f\"perimeter: {perimeter}\")\n",
    "    print(\"The shape is a rectangle\")"
   ]
  },
  {
   "cell_type": "markdown",
   "id": "e89d9ac7-93ca-48e1-b6c7-928d40d11bbb",
   "metadata": {},
   "source": [
    "4"
   ]
  },
  {
   "cell_type": "code",
   "execution_count": null,
   "id": "f22c582a-8343-4500-a9d1-219ea91d0f47",
   "metadata": {},
   "outputs": [
    {
     "name": "stdout",
     "output_type": "stream",
     "text": [
      "Hello, Mubarak!\n",
      "Hello, Rahmah!\n",
      "Hello, Waliyullah!\n",
      "Hello, Fawaz!\n",
      "Hello, Abubakr!\n"
     ]
    }
   ],
   "source": [
    "current_members = (\"Mubarak\",\"Rahmah\",\"Waliyullah\",\"Fawaz\",\"Abubakr\")\n",
    "for member in current_members : \n",
    "    print(f\"Hello, {member}!\")\n",
    "new_members = input(\"Enter your name: \").new_members.append(current_members)\n",
    "print(\"\\nupdated current_members:\")"
   ]
  },
  {
   "cell_type": "markdown",
   "id": "117a6044-eeb2-4237-9bc1-af0a8d453c03",
   "metadata": {},
   "source": [
    "REPORT"
   ]
  },
  {
   "cell_type": "markdown",
   "id": "22dcfbac-ee82-413a-8f3a-142cc306be7e",
   "metadata": {},
   "source": [
    "PYTHON : My Journey so far \n",
    "\n",
    "\n",
    "Introduction\n",
    "\n",
    "Python is a high-level, interpreted programming language widely used in data science, web development, artificial intelligence, and automation. Its simplicity, readability, and versatility make it one of the most popular programming languages for beginners and professionals alike.\n",
    "\n",
    "\n",
    "\n",
    "Key Features of Python\n",
    "\n",
    "1. Simple Syntax – Python code is easy to read and write, similar to plain English.\n",
    "2. Interpreted Language – Code is executed line by line, which makes debugging easier.\n",
    "3. Cross-Platform – Runs on Windows, macOS, and Linux without modification.\n",
    "4. Large Standard Library – Comes with built-in modules for common tasks.\n",
    "5. Extensible – Supports integration with other languages such as C and Java.\n",
    "\n",
    "\n",
    "\n",
    "\n",
    " 1. Variables and Data Types\n",
    "\n",
    "* Variables store data values.\n",
    "* Common data types include:\n",
    "\n",
    "  int (integers), *float* (decimal numbers), *str* (strings), *bool* (True/False).\n",
    "\n",
    "  python\n",
    "  age = 20\n",
    "  pi = 3.14\n",
    "  name = \"Alice\"\n",
    "  is_student = True\n",
    "  \n",
    "\n",
    "2. Operators\n",
    "\n",
    "* Arithmetic: +, -, *, /, %\n",
    "* Comparison: ==, !=, <, >\n",
    "* Logical: and, or, not\n",
    "\n",
    "3. Control Structures\n",
    "\n",
    "* Conditional Statements:\n",
    "\n",
    "  python\n",
    "  if age >= 18:\n",
    "      print(\"Adult\")\n",
    "  else:\n",
    "      print(\"Minor\")\n",
    "  \n",
    "* *Loops*:\n",
    "\n",
    "  * for loop for iteration\n",
    "  * while loop for repetition\n",
    "\n",
    " 4. Functions\n",
    "\n",
    "Functions group reusable code blocks.\n",
    "\n",
    "python\n",
    "def greet(name):\n",
    "    return f\"Hello, {name}!\"\n",
    "print(greet(\"Alice\"))\n",
    "\n",
    "\n",
    " 5. Data Structures\n",
    "\n",
    "* *List*: Ordered, mutable collection.\n",
    "* *Tuple*: Ordered, immutable collection.\n",
    "* *Set*: Unordered, unique elements.\n",
    "* *Dictionary*: Key-value pairs.\n",
    "\n",
    "\n",
    "Python stands out for its ease of use, rich libraries, and adaptability across fields. Understanding the basics—variables, operators, control flow, functions, and data structures—forms the foundation for exploring advanced applications in modern technology. For beginners, Python offers a smooth learning curve, while forprofessionals, it provides powerful tools for solving real-world.\n",
    "\n"
   ]
  }
 ],
 "metadata": {
  "kernelspec": {
   "display_name": "Python [conda env:base] *",
   "language": "python",
   "name": "conda-base-py"
  },
  "language_info": {
   "codemirror_mode": {
    "name": "ipython",
    "version": 3
   },
   "file_extension": ".py",
   "mimetype": "text/x-python",
   "name": "python",
   "nbconvert_exporter": "python",
   "pygments_lexer": "ipython3",
   "version": "3.13.5"
  }
 },
 "nbformat": 4,
 "nbformat_minor": 5
}

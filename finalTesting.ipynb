{
 "cells": [
  {
   "cell_type": "markdown",
   "id": "a2451d60-37d6-43aa-a6c7-9e5702373274",
   "metadata": {},
   "source": [
    "OPERATORS AND COMPARISONS "
   ]
  },
  {
   "cell_type": "code",
   "execution_count": 1,
   "id": "2b1b5839-56ae-428e-a83c-905b342037d1",
   "metadata": {},
   "outputs": [],
   "source": [
    "x = 100\n",
    "y = 40"
   ]
  },
  {
   "cell_type": "code",
   "execution_count": 2,
   "id": "d22a74f1-a787-4463-82e4-01ff1ab09727",
   "metadata": {},
   "outputs": [],
   "source": [
    "sumOfxAndy = x+y"
   ]
  },
  {
   "cell_type": "code",
   "execution_count": 3,
   "id": "a032603e-790f-47cb-98f1-9ea49e1c2952",
   "metadata": {},
   "outputs": [
    {
     "name": "stdout",
     "output_type": "stream",
     "text": [
      "140\n"
     ]
    }
   ],
   "source": [
    "print(x+y)"
   ]
  },
  {
   "cell_type": "code",
   "execution_count": 4,
   "id": "7a0632b5-e980-46ee-9571-e927741c1fdc",
   "metadata": {},
   "outputs": [],
   "source": [
    "differenceOfxAndy = x-y"
   ]
  },
  {
   "cell_type": "code",
   "execution_count": 5,
   "id": "4656a4f9-71be-41fc-a6f3-29b8bdc14bd3",
   "metadata": {},
   "outputs": [
    {
     "name": "stdout",
     "output_type": "stream",
     "text": [
      "60\n"
     ]
    }
   ],
   "source": [
    "print(x-y)"
   ]
  },
  {
   "cell_type": "code",
   "execution_count": 6,
   "id": "c6febe3c-6241-4553-93ad-051fe097f557",
   "metadata": {},
   "outputs": [],
   "source": [
    "productOfxAndy = x*y"
   ]
  },
  {
   "cell_type": "code",
   "execution_count": 7,
   "id": "489529b8-f11d-42a2-89d3-c29ec3e931ff",
   "metadata": {},
   "outputs": [
    {
     "name": "stdout",
     "output_type": "stream",
     "text": [
      "4000\n"
     ]
    }
   ],
   "source": [
    "print(x*y)"
   ]
  },
  {
   "cell_type": "code",
   "execution_count": 8,
   "id": "5de5c922-b8cc-4ec1-b2f4-595baddd78a6",
   "metadata": {},
   "outputs": [],
   "source": [
    "quotient = x//y"
   ]
  },
  {
   "cell_type": "code",
   "execution_count": 9,
   "id": "507a6bce-b1a4-404c-9854-503ddec5bfe3",
   "metadata": {},
   "outputs": [
    {
     "name": "stdout",
     "output_type": "stream",
     "text": [
      "2\n"
     ]
    }
   ],
   "source": [
    "print(x//y)"
   ]
  },
  {
   "cell_type": "code",
   "execution_count": 10,
   "id": "1ec3d602-bdaa-4ccc-96eb-5f698dcaed1e",
   "metadata": {},
   "outputs": [],
   "source": [
    "remainder = x%y"
   ]
  },
  {
   "cell_type": "code",
   "execution_count": 11,
   "id": "cd848577-9b87-4564-8b81-a634a3fd55c3",
   "metadata": {},
   "outputs": [
    {
     "name": "stdout",
     "output_type": "stream",
     "text": [
      "20\n"
     ]
    }
   ],
   "source": [
    "print(x%y)"
   ]
  },
  {
   "cell_type": "code",
   "execution_count": 12,
   "id": "61d6ae6b-7234-420a-89ea-bd126bb34486",
   "metadata": {},
   "outputs": [],
   "source": [
    "a = x>y"
   ]
  },
  {
   "cell_type": "code",
   "execution_count": 13,
   "id": "fc96194e-b988-4ee8-8844-d7ae3dc9a2a1",
   "metadata": {},
   "outputs": [
    {
     "name": "stdout",
     "output_type": "stream",
     "text": [
      "True\n"
     ]
    }
   ],
   "source": [
    "print(a)"
   ]
  },
  {
   "cell_type": "code",
   "execution_count": 14,
   "id": "1b7ec978-fe48-4185-b85b-a1bd4264090b",
   "metadata": {},
   "outputs": [],
   "source": [
    "b = x<=y"
   ]
  },
  {
   "cell_type": "code",
   "execution_count": 15,
   "id": "48a4cdb0-04e6-47b7-a915-46b3be25203f",
   "metadata": {},
   "outputs": [
    {
     "name": "stdout",
     "output_type": "stream",
     "text": [
      "False\n"
     ]
    }
   ],
   "source": [
    "print(b)"
   ]
  },
  {
   "cell_type": "code",
   "execution_count": 16,
   "id": "9cfe49ef-43a7-4ca4-be90-3695d432bf9f",
   "metadata": {},
   "outputs": [],
   "source": [
    "c = x==y"
   ]
  },
  {
   "cell_type": "code",
   "execution_count": 17,
   "id": "95fab6a5-1ed3-4e83-b73e-2a053b58e10e",
   "metadata": {},
   "outputs": [
    {
     "name": "stdout",
     "output_type": "stream",
     "text": [
      "False\n"
     ]
    }
   ],
   "source": [
    "print(c)"
   ]
  },
  {
   "cell_type": "code",
   "execution_count": null,
   "id": "87e6cf15-539e-46f8-8aa3-8f70fe1c58d3",
   "metadata": {},
   "outputs": [],
   "source": []
  }
 ],
 "metadata": {
  "kernelspec": {
   "display_name": "Python [conda env:base] *",
   "language": "python",
   "name": "conda-base-py"
  },
  "language_info": {
   "codemirror_mode": {
    "name": "ipython",
    "version": 3
   },
   "file_extension": ".py",
   "mimetype": "text/x-python",
   "name": "python",
   "nbconvert_exporter": "python",
   "pygments_lexer": "ipython3",
   "version": "3.13.5"
  }
 },
 "nbformat": 4,
 "nbformat_minor": 5
}
